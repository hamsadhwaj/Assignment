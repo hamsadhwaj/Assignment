{
  "nbformat": 4,
  "nbformat_minor": 0,
  "metadata": {
    "colab": {
      "provenance": []
    },
    "kernelspec": {
      "name": "python3",
      "display_name": "Python 3"
    },
    "language_info": {
      "name": "python"
    }
  },
  "cells": [
    {
      "cell_type": "code",
      "execution_count": 3,
      "metadata": {
        "colab": {
          "base_uri": "https://localhost:8080/"
        },
        "id": "XnTRlQkLA-TO",
        "outputId": "81bdc146-c2b0-462a-ba5e-c976c17290ee"
      },
      "outputs": [
        {
          "output_type": "stream",
          "name": "stdout",
          "text": [
            "Columns in merged_data: Index(['TransactionID', 'CustomerID', 'ProductID', 'TransactionDate',\n",
            "       'Quantity', 'TotalValue', 'Price_x', 'CustomerName', 'Region',\n",
            "       'SignupDate', 'ProductName', 'Category', 'Price_y'],\n",
            "      dtype='object')\n",
            "  CustomerID                                         Lookalikes\n",
            "0      C0001  [{'cust_id': 'C0184', 'score': 0.961}, {'cust_...\n",
            "1      C0002  [{'cust_id': 'C0088', 'score': 0.986}, {'cust_...\n",
            "2      C0003  [{'cust_id': 'C0076', 'score': 0.947}, {'cust_...\n",
            "3      C0004  [{'cust_id': 'C0165', 'score': 0.984}, {'cust_...\n",
            "4      C0005  [{'cust_id': 'C0186', 'score': 0.946}, {'cust_...\n"
          ]
        }
      ],
      "source": [
        "import pandas as pd\n",
        "from sklearn.preprocessing import StandardScaler\n",
        "from sklearn.metrics.pairwise import cosine_similarity\n",
        "\n",
        "# Load datasets\n",
        "customers = pd.read_csv('Customers.csv')\n",
        "products = pd.read_csv('Products.csv')\n",
        "transactions = pd.read_csv('Transactions.csv')\n",
        "\n",
        "# Convert date columns to datetime\n",
        "customers['SignupDate'] = pd.to_datetime(customers['SignupDate'])\n",
        "transactions['TransactionDate'] = pd.to_datetime(transactions['TransactionDate'])\n",
        "\n",
        "# Merge datasets\n",
        "merged_data = transactions.merge(customers, on='CustomerID').merge(products, on='ProductID')\n",
        "\n",
        "# Verify column names in the merged dataset\n",
        "print(\"Columns in merged_data:\", merged_data.columns)\n",
        "\n",
        "# Feature Engineering: Aggregate transaction data for customers\n",
        "customer_profiles = merged_data.groupby('CustomerID').agg({\n",
        "    'TotalValue': 'sum',         # Total spend\n",
        "    'Quantity': 'sum',           # Total quantity purchased\n",
        "    'Region': 'first',           # Region\n",
        "    'Category': lambda x: x.mode()[0],  # Most frequent product category\n",
        "}).reset_index()\n",
        "\n",
        "# If 'Price' is necessary, derive it from 'TotalValue' and 'Quantity'\n",
        "if 'Price' not in customer_profiles.columns and 'TotalValue' in merged_data.columns and 'Quantity' in merged_data.columns:\n",
        "    customer_profiles['Price'] = customer_profiles['TotalValue'] / customer_profiles['Quantity']\n",
        "\n",
        "# One-hot encode categorical variables\n",
        "customer_profiles = pd.get_dummies(customer_profiles, columns=['Region', 'Category'], drop_first=True)\n",
        "\n",
        "# Normalize numerical features\n",
        "scaler = StandardScaler()\n",
        "numerical_columns = ['TotalValue', 'Quantity', 'Price']\n",
        "customer_profiles[numerical_columns] = scaler.fit_transform(customer_profiles[numerical_columns])\n",
        "\n",
        "# Similarity Calculation\n",
        "customer_ids = customer_profiles['CustomerID']\n",
        "customer_profiles_matrix = customer_profiles.drop('CustomerID', axis=1)\n",
        "\n",
        "# Calculate cosine similarity\n",
        "similarity_matrix = cosine_similarity(customer_profiles_matrix)\n",
        "similarity_df = pd.DataFrame(similarity_matrix, index=customer_ids, columns=customer_ids)\n",
        "\n",
        "# Generate Lookalike Recommendations\n",
        "lookalike_map = {}\n",
        "for customer_id in customer_ids[:20]:  # For CustomerID: C0001 to C0020\n",
        "    similar_customers = similarity_df[customer_id].sort_values(ascending=False).iloc[1:4]  # Top 3 lookalikes\n",
        "    lookalike_map[customer_id] = [\n",
        "        {'cust_id': similar_customer, 'score': round(score, 3)}\n",
        "        for similar_customer, score in similar_customers.items()\n",
        "    ]\n",
        "\n",
        "# Convert lookalike_map to DataFrame\n",
        "lookalike_df = pd.DataFrame({\n",
        "    'CustomerID': lookalike_map.keys(),\n",
        "    'Lookalikes': lookalike_map.values()\n",
        "})\n",
        "\n",
        "# Save Lookalike.csv\n",
        "lookalike_df.to_csv('Lookalike.csv', index=False)\n",
        "\n",
        "# Print a preview of the lookalike recommendations\n",
        "print(lookalike_df.head())\n"
      ]
    }
  ]
}